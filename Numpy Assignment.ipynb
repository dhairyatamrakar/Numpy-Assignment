{
 "cells": [
  {
   "cell_type": "code",
   "execution_count": 1,
   "id": "e87a15ef-6bf5-4d17-b911-faf26348227c",
   "metadata": {},
   "outputs": [],
   "source": [
    "# Theoretical Questions:"
   ]
  },
  {
   "cell_type": "code",
   "execution_count": null,
   "id": "ce28b63d-c4cd-4f5c-9080-12f35c3d909e",
   "metadata": {},
   "outputs": [],
   "source": [
    "# # 1. Explain the purpose and advantages of NumPy in scientific computing and data analysis.\n",
    "# # How does it enhance Python's capabilities for numerical operations?\n",
    "\n",
    "# # Ans(1)\n",
    "\n",
    "# # Purpose of NumPy:\n",
    "\n",
    "# # Efficient Data Handling: NumPy provides an efficient way to store and manipulate large datasets using ndarrays (N-dimensional arrays).\n",
    "\n",
    "# # Mathematical Operations: It offers a wide range of mathematical functions for operations on arrays and matrices.\n",
    "\n",
    "# # Foundation for Other Libraries: Many data science libraries like Pandas, SciPy, and scikit-learn are built on top of NumPy.\n",
    "\n",
    "# # Interfacing with C/C++ and Fortran: NumPy allows integration with code written in these languages for enhanced performance.\n",
    "\n",
    "# # Advantages of NumPy:\n",
    "\n",
    "# # Performance: NumPy arrays are more efficient than Python lists, especially for large datasets.\n",
    "\n",
    "# # Convenience: It provides concise syntax for array operations, making code more readable and easier to write.\n",
    "\n",
    "# # Vectorization: Operations are applied element-wise without explicit loops, improving performance.\n",
    "\n",
    "# # Broadcasting: This feature allows operations on arrays of different shapes, simplifying many tasks.\n",
    "\n",
    "# # Comprehensive Functions: NumPy includes a wide array of functions for mathematical, logical, and statistical operations.\n",
    "\n",
    "# # Integration: Proficiency in NumPy facilitates learning and using other data science tools like Pandas and Matplotlib.\n",
    "\n",
    "# # Community Support: It has a large community and extensive documentation for help and resources.\n",
    "\n",
    "# # Enhancing Python’s Numerical Capabilities:\n",
    "\n",
    "# # Efficient Data Structures: NumPy's ndarrays are faster and more memory-efficient than Python lists.\n",
    "\n",
    "# # Mathematical Functions: It provides optimized functions for various mathematical operations.\n",
    "\n",
    "# # Memory Management: NumPy arrays use less memory compared to equivalent Python lists.\n",
    "\n",
    "# # Low-Level Integration: It allows the use of high-performance libraries and custom functions written in C/C++ and Fortran.\n",
    "\n",
    "# # Array Broadcasting: Simplifies code by allowing operations on arrays of different shapes without complex loops.\n",
    "\n",
    "\n",
    "# NumPy enhances Python's capabilities for numerical operations in several key ways:\n",
    "\n",
    "# Efficient Data Structures\n",
    "# ndarray: NumPy introduces ndarray (N-dimensional array), a powerful data structure optimized for numerical calculations. These arrays are more efficient in terms of memory usage and performance compared to Python lists, especially for large datasets.\n",
    "\n",
    "# Performance Optimization\n",
    "# Speed: NumPy arrays are implemented in C, allowing for faster computation. Operations on NumPy arrays are significantly faster than operations on Python lists due to the optimized C code running behind the scenes.\n",
    "# Vectorization: NumPy supports vectorized operations, which means operations can be applied element-wise to entire arrays without the need for explicit loops. This not only speeds up the computation but also makes the code more readable and concise.\n",
    "\n",
    "# Broad Functionality\n",
    "# Mathematical Functions: NumPy provides a comprehensive set of mathematical functions, including linear algebra, random number generation, Fourier transforms, and more. These functions are highly optimized for performance.\n",
    "# Broadcasting: Broadcasting allows NumPy to perform operations on arrays of different shapes and sizes. This feature simplifies many mathematical operations and reduces the need for complex, multi-dimensional loops.\n",
    "\n",
    "# Memory Efficiency\n",
    "# Contiguous Memory Layout: NumPy arrays are stored in contiguous blocks of memory, which improves cache efficiency and speeds up access times. This memory layout is more efficient compared to the scattered memory layout of Python lists.\n",
    "# Homogeneous Data: NumPy arrays are homogeneous, meaning all elements in the array are of the same data type. This allows for more efficient storage and computation.\n",
    "\n",
    "# Integration with Low-Level Languages\n",
    "# C/C++ and Fortran Integration: NumPy can seamlessly interface with code written in C, C++, and Fortran. This allows developers to leverage high-performance libraries and custom functions, enhancing the computational capabilities of Python.\n",
    "\n",
    "# Simplified Code\n",
    "# Concise Syntax: NumPy provides a clear and concise syntax for numerical operations, making the code easier to write and understand. This simplification is particularly useful for scientific computing and data analysis, where complex operations are common.\n",
    "\n",
    "# Ecosystem Support\n",
    "# Foundation for Other Libraries: NumPy serves as the foundation for many other scientific and data analysis libraries in Python, such as SciPy, Pandas, and scikit-learn. Proficiency in NumPy ensures smoother learning and usage of these related tools.\n"
   ]
  },
  {
   "cell_type": "code",
   "execution_count": 3,
   "id": "214ae79f-2200-4520-8e6c-f670a703b8fe",
   "metadata": {},
   "outputs": [],
   "source": [
    "# # 2. Compare and contrast np.mean() and np.average() functions in NumPy. When would you use one\n",
    "# # over the other?\n",
    "\n",
    "# # Ans(2)\n",
    "\n",
    "# np.mean()\n",
    "# Purpose: Calculates the arithmetic mean (simple average) of array elements.\n",
    "# Syntax: np.mean(array, axis=None)\n",
    "# Example:\n",
    "#\n",
    "import numpy as np\n",
    "arr = np.array([1, 2, 3, 4, 5])\n",
    "mean = np.mean(arr)  # Result: 3.0\n",
    "\n",
    "# np.average()\n",
    "# Purpose: Calculates the weighted average of array elements.\n",
    "# Syntax: np.average(array, axis=None, weights=None)\n",
    "# Example:\n",
    "\n",
    "import numpy as np\n",
    "arr = np.array([1, 2, 3, 4, 5])\n",
    "weights = np.array([1, 1, 1, 1, 2])\n",
    "weighted_avg = np.average(arr, weights=weights)  \n",
    "\n",
    "# Weights:\n",
    "# np.mean(): Does not use weights.\n",
    "# np.average(): Can use weights to compute the average.\n",
    "\n",
    "# Use Case:\n",
    "# Use np.mean() for a simple average.\n",
    "# Use np.average() when you need a weighted average.\n",
    "\n",
    "# When to Use\n",
    "# np.mean(): When you want the basic average without any weights.\n",
    "# np.average(): When you need to consider the relative importance of elements using weights.\n"
   ]
  },
  {
   "cell_type": "code",
   "execution_count": 3,
   "id": "c8c09f7e-11ec-4c48-9769-9a6fcae40f38",
   "metadata": {},
   "outputs": [
    {
     "data": {
      "text/plain": [
       "array([[7, 8, 9],\n",
       "       [4, 5, 6],\n",
       "       [1, 2, 3]])"
      ]
     },
     "execution_count": 3,
     "metadata": {},
     "output_type": "execute_result"
    }
   ],
   "source": [
    "# 3. Describe the methods for reversing a NumPy array along different axes. Provide examples for \n",
    "# 1D and 2D arrays. \n",
    "\n",
    "# Ans(3)\n",
    "# Reversing a NumPy array along different axes can be done using slicing and specialized NumPy \n",
    "# functions. Here’s how you can reverse arrays along different axes with examples for 1D and 2D arrays:\n",
    "\n",
    "# Reversing a 1D Array\n",
    "# Method: Slicing\n",
    "\n",
    "# To reverse a 1D array, you can use slicing with a step of -1.\n",
    "# Ex:- \n",
    "\n",
    "import numpy as np\n",
    "\n",
    "arr_1d = np.array([1,2,3,4,5])\n",
    "arr_1d[::-1]\n",
    "\n",
    "# Reversing a 2D Array\n",
    "# Method 1: Reversing Along the First Axis (Rows)\n",
    "\n",
    "# To reverse a 2D array along the first axis (rows), you can use slicing with a step of -1 on\n",
    "# the first axis.\n",
    "\n",
    "arr_2d = np.array([[1,2,3],[4,5,6],[7,8,9]])\n",
    "arr_2d[::-1]\n",
    "\n"
   ]
  },
  {
   "cell_type": "code",
   "execution_count": 4,
   "id": "2e7f2682-0146-45fc-9cb0-6ffbe60d6959",
   "metadata": {},
   "outputs": [
    {
     "name": "stdout",
     "output_type": "stream",
     "text": [
      "int64\n"
     ]
    }
   ],
   "source": [
    "# 4. How can you determine the data type of elements in a NumPy array? Discuss the importance of \n",
    "# data types in memory management and performance.\n",
    "\n",
    "# Ans(4) To determine the data type of elements in a NumPy array, you can use the dtype attribute\n",
    "# of the array. Here’s how you can do it:\n",
    "\n",
    "import numpy as np \n",
    "\n",
    "arr = np.array([1,2,3,4])\n",
    "print(arr.dtype)\n",
    "\n",
    "# Data types in NumPy play a crucial role in memory management and performance optimization.\n",
    "# Here’s a detailed discussion:\n",
    "\n",
    "# Memory Management: Efficient data types save memory, crucial for large datasets.\n",
    "\n",
    "# Performance: Smaller, appropriate data types can lead to faster computations and \n",
    "# better utilization of NumPy optimizations."
   ]
  },
  {
   "cell_type": "code",
   "execution_count": null,
   "id": "20a476c8-755e-4982-9c98-e2450289c433",
   "metadata": {},
   "outputs": [],
   "source": [
    "# 5. Define ndarrays in NumPy and explain their key features. How do they differ from standard \n",
    "# Python lists?\n",
    "\n",
    "# Ans(5) ndarray stands for \"N-dimensional array\" and is the core data structure in NumPy.\n",
    "# It is a powerful array object that provides fast and efficient operations on large datasets.\n",
    "\n",
    "# Key Features of ndarrays:-\n",
    "\n",
    "# Homogeneous Data Type:\n",
    "# All elements in an ndarray have the same data type, ensuring efficient storage and computation.\n",
    "\n",
    "# Multidimensional:\n",
    "# ndarray can have any number of dimensions (axes), from 1D (like a list) to \n",
    "# multi-dimensional (2D, 3D, etc.).\n",
    "\n",
    "# Fast and Memory Efficient:\n",
    "# Operations on ndarrays are optimized and can be performed very quickly.\n",
    "# Memory usage is more efficient compared to Python lists, especially for large datasets.\n",
    "\n",
    "# Broadcasting:\n",
    "# Allows operations on arrays of different shapes, aligning them as needed.\n",
    "\n",
    "# Advanced Functions and Methods:\n",
    "# NumPy provides numerous built-in functions for mathematical operations, statistics,\n",
    "# linear algebra, and more.\n",
    "\n",
    "# Differences Between ndarrays and Python Lists\n",
    "\n",
    "# Data Type:\n",
    "# ndarrays: Homogeneous, all elements have the same data type.\n",
    "# Lists: Heterogeneous, can contain elements of different data types.\n",
    "\n",
    "# Performance:\n",
    "# ndarrays: Faster for numerical operations due to optimized C implementations.\n",
    "# Lists: Slower for numerical operations because they are more general-purpose and flexible.\n",
    "\n",
    "# Memory Usage:\n",
    "# ndarrays: More memory-efficient due to fixed data types and contiguous memory allocation.\n",
    "# Lists: Less memory-efficient due to the flexibility of storing different data types\n",
    "# and non-contiguous memory allocation.\n",
    "\n",
    "# Functionality:\n",
    "# ndarrays: Supports broadcasting, vectorized operations, and many mathematical functions.\n",
    "# Lists: Do not support broadcasting or vectorized operations. Mathematical operations must be done\n",
    "# element-wise using loops or comprehensions.\n",
    "\n",
    "# Slicing and Indexing:\n",
    "# ndarrays: Advanced slicing and indexing capabilities, including multidimensional slicing.\n",
    "# Lists: Basic slicing and indexing capabilities, less powerful for multidimensional data."
   ]
  },
  {
   "cell_type": "code",
   "execution_count": null,
   "id": "5ab0cbcf-3cf8-47de-ae9d-2ba50985ebfe",
   "metadata": {},
   "outputs": [],
   "source": [
    "# # 6.Analyze the performance benefits of NumPy arrays over Python lists for large-scale numerical operations.\n",
    "\n",
    "# # Ans(6) \n",
    "\n",
    "# Memory Efficiency: NumPy arrays use contiguous memory blocks and homogeneous data types,\n",
    "# leading to lower memory overhead compared to Python lists.\n",
    "\n",
    "# Computational Efficiency: Vectorized operations and broadcasting in NumPy eliminate the need\n",
    "# for explicit loops and improve performance.\n",
    "\n",
    "# Rich Functionality: NumPy's built-in functions and methods are optimized for performance and\n",
    "# can handle large datasets efficiently.\n",
    "\n",
    "# Parallelism and Multithreading: NumPy leverages optimized libraries and parallel execution \n",
    "# to perform computations faster.\n"
   ]
  },
  {
   "cell_type": "code",
   "execution_count": 10,
   "id": "4e82b691-fa71-442c-934d-35cfa2417af5",
   "metadata": {},
   "outputs": [
    {
     "name": "stdout",
     "output_type": "stream",
     "text": [
      "[[1 2 3 4 5]\n",
      " [5 6 7 8 9]]\n",
      "[1 2 3 4 5 6 7 8 9 0]\n"
     ]
    }
   ],
   "source": [
    "# 7. Compare vstack() and hstack() functions in NumPy. Provide examples demonstrating their usage and\n",
    "# output.\n",
    "\n",
    "# Ans(7)\n",
    "\n",
    "# The vstack() and hstack() functions in NumPy are used to stack arrays vertically and horizontally, respectively. Here’s a detailed comparison and examples demonstrating their usage and output:\n",
    "\n",
    "# vstack()\n",
    "# Description: Stacks arrays in sequence vertically (row-wise).\n",
    "# Use Case: Used when you want to combine arrays along the vertical axis (adding rows).\n",
    "# Ex:-\n",
    "\n",
    "import numpy as np\n",
    "\n",
    "a = np.array([1,2,3,4,5])\n",
    "b = np.array([5,6,7,8,9])\n",
    "\n",
    "result = np.vstack((a, b))\n",
    "print(result)\n",
    "\n",
    "\n",
    "# hstack()\n",
    "# Description: Stacks arrays in sequence horizontally (column-wise).\n",
    "# Use Case: Used when you want to combine arrays along the horizontal axis (adding columns).\n",
    "# Ex:-\n",
    "\n",
    "import numpy as np\n",
    "\n",
    "a = np.array([1,2,3,4,5])\n",
    "b = np.array([6,7,8,9,0])\n",
    "\n",
    "result = np.hstack((a, b))\n",
    "print(result)\n"
   ]
  },
  {
   "cell_type": "code",
   "execution_count": 16,
   "id": "f4f7cb94-baf7-4616-bcd0-2d8628c9d488",
   "metadata": {},
   "outputs": [
    {
     "data": {
      "text/plain": [
       "array([[7, 8, 9],\n",
       "       [4, 5, 6],\n",
       "       [1, 2, 3]])"
      ]
     },
     "execution_count": 16,
     "metadata": {},
     "output_type": "execute_result"
    }
   ],
   "source": [
    "# # # 8.Explain the differences between fliplr() and flipud() methods in NumPy, including their effects on various\n",
    "# # # array dimensions.\n",
    "\n",
    "# # # Ans(8)\n",
    "\n",
    "# # The fliplr() and flipud() methods in NumPy are used to flip arrays along different axes.\n",
    "# Here’s a detailed explanation of their differences and their effects on arrays of various dimensions:\n",
    "\n",
    "# # fliplr()\n",
    "# # Description: Flips an array left to right (horizontally) along the second axis (axis=1).\n",
    "# # Use Case: Used when you want to reverse the order of columns in a 2D array or higher-dimensional\n",
    "# arrays where the second axis is considered.\n",
    "# Ex:-\n",
    "\n",
    "import numpy as np \n",
    "arr = np.array([[1,2,3],[4,5,6],[7,8,9]])\n",
    "arr\n",
    "\n",
    "result = np.fliplr(arr)\n",
    "result\n",
    "\n",
    "\n",
    "\n",
    "# flipud()\n",
    "# Description: Flips an array up to down (vertically) along the first axis (axis=0).\n",
    "# Use Case: Used when you want to reverse the order of rows in a 2D array or higher-dimensional\n",
    "# arrays where the first axis is considered.\n",
    "# Ex-\n",
    "\n",
    "import numpy as np \n",
    "\n",
    "arr = np.array([[1,2,3],[4,5,6],[7,8,9]])\n",
    "arr\n",
    "\n",
    "result = np.flipud(arr)\n",
    "result"
   ]
  },
  {
   "cell_type": "code",
   "execution_count": 23,
   "id": "ff783315-76b0-4b13-9efe-c7ad4f6bec0b",
   "metadata": {},
   "outputs": [
    {
     "name": "stdout",
     "output_type": "stream",
     "text": [
      "[1 2]\n",
      "[3]\n",
      "[4]\n",
      "[5]\n",
      "[6]\n",
      "[7]\n"
     ]
    }
   ],
   "source": [
    "# 9.Discuss the functionality of the array_split() method in NumPy. How does it handle uneven splits?\n",
    "# Ans(9)\n",
    "\n",
    "# The array_split() method in NumPy is used to split an array into multiple sub-arrays.\n",
    "# It is a versatile function that can handle both equal and unequal splits.\n",
    "# Here's a detailed discussion on its functionality and how it handles uneven splits:\n",
    "\n",
    "# Basic Usage\n",
    "# The array_split() function allows you to specify the number of splits or the indices at\n",
    "# which to split the array. It returns a list of sub-arrays.\n",
    "\n",
    "# Syntax:\n",
    "    # numpy.array_split(array, indices_or_sections, axis=0)\n",
    "    \n",
    "# array: The input array to be split.\n",
    "# indices_or_sections: If an integer, it represents the number of equal or unequal sub-arrays to split into. If a list of indices, it represents the points at which the array is split.\n",
    "# axis: The axis along which to split the array. Default is 0.\n",
    "\n",
    "\n",
    "# Handling Uneven Splits\n",
    "# When the number of splits does not divide the array evenly, array_split() handles the remainder\n",
    "# by distributing it among the sub-arrays. The function tries to make the sub-arrays as equal as \n",
    "# possible.\n",
    "\n",
    "# Ex-\n",
    "\n",
    "import numpy as np\n",
    "\n",
    "arr = np.array([1,2,3,4,5,6,7])\n",
    "\n",
    "result = np.array_split(arr,6)\n",
    "for i in result:\n",
    "    print(i)"
   ]
  },
  {
   "cell_type": "code",
   "execution_count": null,
   "id": "69430bad-9852-4ab0-80d5-d5c13f7d8484",
   "metadata": {},
   "outputs": [],
   "source": [
    "#  10.Explain the concepts of vectorization and broadcasting in NumPy. How do they contribute\n",
    "#  to efficient array operations?\n",
    "\n",
    "#  Vectorization\n",
    "\n",
    "#  Concept:\n",
    "#  Vectorization in NumPy refers to the process of performing operations on entire arrays without the need for explicit loops.\n",
    "# It leverages underlying optimizations in NumPy's implementation (often in C) to execute operations efficiently.\n",
    "\n",
    "#  Benefits:\n",
    "#  Speed: Vectorized operations are much faster than equivalent operations implemented with Python loops.\n",
    "# Code Simplicity: Eliminates the need for explicit loops, making the code more concise and easier to read.\n",
    "#  Efficiency: Operations are performed at a lower level in optimized machine code, which is more efficient than high-level Python loops.\n",
    "\n",
    "#  Broadcasting\n",
    "\n",
    "#  Concept:\n",
    "#  Broadcasting in NumPy allows operations on arrays of different shapes, by automatically expanding the smaller array to match the shape of the larger array.\n",
    "#  It follows specific rules to align the shapes and apply the operations.\n",
    "\n",
    "#  Rules:\n",
    "# # If the arrays differ in their number of dimensions, the shape of the smaller array is padded with ones on its left side.\n",
    "# # If the shape of the arrays does not match in any dimension, the array with shape equal to 1 in that dimension is stretched to match the other shape.\n",
    "# # If any dimension sizes are mismatched and neither is equal to 1, broadcasting will not be possible.\n",
    "\n",
    "# # Benefits:\n",
    "# # Flexibility: Allows operations between arrays of different shapes, saving the need to create explicitly matched shapes.\n",
    "# # Memory Efficiency: Avoids creating large intermediate arrays, working instead with the existing array's data in an efficient manner.\n",
    "\n",
    "# Contributions to Efficient Array Operations\n",
    "\n",
    "# Performance Improvement:\n",
    "# Both vectorization and broadcasting leverage NumPy’s underlying C-based implementation, which is optimized for performance.\n",
    "# This results in significant speedups for array operations compared to native Python loops.\n",
    "\n",
    "# Memory Efficiency:\n",
    "# Broadcasting avoids the need for explicitly expanding smaller arrays to match larger arrays, which conserves memory.\n",
    "# Vectorized operations work on the entire array directly, avoiding the overhead of iterating through individual elements.\n",
    "\n",
    "# Code Simplicity:\n",
    "# Eliminates the need for explicit loops and intermediate data structures, resulting in cleaner and more maintainable code.\n",
    "# Easier to read and understand, particularly for complex mathematical and array operations.\n",
    "\n",
    "# Parallelism:\n",
    "# Under the hood, NumPy operations can leverage parallel processing capabilities of modern CPUs, further enhancing performance."
   ]
  },
  {
   "cell_type": "code",
   "execution_count": null,
   "id": "b80efd49-60eb-4a03-bfca-b07b9f26cd9f",
   "metadata": {},
   "outputs": [],
   "source": []
  },
  {
   "cell_type": "code",
   "execution_count": 1,
   "id": "1cd5c423-8c03-470d-bec2-1ca75e4eec99",
   "metadata": {},
   "outputs": [],
   "source": [
    "# Practical Questions"
   ]
  },
  {
   "cell_type": "code",
   "execution_count": 10,
   "id": "719f61c4-2e7b-4d93-a7a0-7a89e553b62c",
   "metadata": {},
   "outputs": [
    {
     "data": {
      "text/plain": [
       "array([[43, 72, 76],\n",
       "       [26, 91, 92],\n",
       "       [89, 16, 68]])"
      ]
     },
     "execution_count": 10,
     "metadata": {},
     "output_type": "execute_result"
    }
   ],
   "source": [
    "# 1. Create a 3x3 NumPy array with random integers between 1 and 100.\n",
    "# Then, interchange its rows and columns.\n",
    "\n",
    "# Ans(1)\n",
    "import numpy as np\n",
    "\n",
    "array = np.random.randint(1,101, size = (3,3))\n",
    "\n",
    "array.T"
   ]
  },
  {
   "cell_type": "code",
   "execution_count": 13,
   "id": "77457e34-f199-4c43-99a5-48464a1cc1c5",
   "metadata": {},
   "outputs": [
    {
     "data": {
      "text/plain": [
       "array([[0, 1],\n",
       "       [2, 3],\n",
       "       [4, 5],\n",
       "       [6, 7],\n",
       "       [8, 9]])"
      ]
     },
     "execution_count": 13,
     "metadata": {},
     "output_type": "execute_result"
    }
   ],
   "source": [
    "# 2. Generate a 1D NumPy array with 10 elements. Reshape it into a 2x5 array, then into a 5x2 array?\n",
    "\n",
    "# Ans(2)\n",
    "import numpy as np \n",
    "\n",
    "array_1d = np.arange(10)\n",
    "array_1d\n",
    "\n",
    "reshape_2x5 = array_1d.reshape((2,5))\n",
    "reshape_2x5\n",
    "\n",
    "reshape_5x2 = reshape_2x5.reshape((5,2))\n",
    "reshape_5x2"
   ]
  },
  {
   "cell_type": "code",
   "execution_count": 19,
   "id": "9d8d5cdd-6a4d-45d6-b2f2-3c7d612fe51d",
   "metadata": {},
   "outputs": [
    {
     "name": "stdout",
     "output_type": "stream",
     "text": [
      "[[0.         0.         0.         0.         0.         0.        ]\n",
      " [0.         0.5085248  0.33496898 0.62154618 0.36542832 0.        ]\n",
      " [0.         0.40108244 0.71647438 0.76891122 0.55695911 0.        ]\n",
      " [0.         0.66261396 0.29824221 0.58732978 0.59067655 0.        ]\n",
      " [0.         0.93030759 0.2329902  0.93281518 0.19107301 0.        ]\n",
      " [0.         0.         0.         0.         0.         0.        ]]\n"
     ]
    }
   ],
   "source": [
    "# 3. Create a 4x4 NumPy array with random float values. Add a border of zeros around it,\n",
    "# resulting in a 6x6 array.\n",
    "\n",
    "# Ans(3)\n",
    "import numpy as np \n",
    "\n",
    "array_4x4 = np.random.rand(4,4)\n",
    "array\n",
    "\n",
    "array_6x6 = np.pad(array_4x4, pad_width = 1, mode = 'constant', constant_values = 0)\n",
    "print(array_6x6)"
   ]
  },
  {
   "cell_type": "code",
   "execution_count": 25,
   "id": "b6d39d2b-efcb-49f8-b971-5674b6ac1444",
   "metadata": {},
   "outputs": [
    {
     "name": "stdout",
     "output_type": "stream",
     "text": [
      "[10 15 20 25 30 35 40 45 50 55 60]\n"
     ]
    }
   ],
   "source": [
    "# 4. Using NumPy, create an array of integers from 10 to 60 with a step of 5.\n",
    "\n",
    "# Ans(4)\n",
    "import numpy as np\n",
    "\n",
    "array = np.arange(10,61,5)\n",
    "print(array)"
   ]
  },
  {
   "cell_type": "code",
   "execution_count": 31,
   "id": "2a1380c6-91c3-427f-a6c6-e4763f7e6a42",
   "metadata": {},
   "outputs": [
    {
     "name": "stdout",
     "output_type": "stream",
     "text": [
      "['python' 'numpy' 'pandas']\n",
      "['PYTHON' 'NUMPY' 'PANDAS']\n",
      "['python' 'numpy' 'pandas']\n",
      "['Python' 'Numpy' 'Pandas']\n"
     ]
    }
   ],
   "source": [
    "# 5.Create a NumPy array of strings ['python', 'numpy', 'pandas']. Apply different case transformations\n",
    "# (uppercase, lowercase, title case, etc.) to each element.\n",
    "\n",
    "# Ans(5)\n",
    "import numpy as np \n",
    "\n",
    "array = np.array(['python','numpy','pandas'])\n",
    "print(array)\n",
    "\n",
    "upper_array = np.char.upper(array)\n",
    "print(upper_array)\n",
    "\n",
    "lower_array = np.char.lower(array)\n",
    "print(lower_array)\n",
    "\n",
    "title_array = np.char.title(array)\n",
    "print(title_array)"
   ]
  },
  {
   "cell_type": "code",
   "execution_count": 34,
   "id": "0f21e7bd-395d-450f-b786-96555358968a",
   "metadata": {},
   "outputs": [
    {
     "name": "stdout",
     "output_type": "stream",
     "text": [
      "['python' 'numpy']\n",
      "['p y t h o n' 'n u m p y']\n"
     ]
    }
   ],
   "source": [
    "# 6. Generate a NumPy array of words. Insert a space between each character of every word in the array.\n",
    "\n",
    "# Ans(6)\n",
    "import numpy as np\n",
    "\n",
    "array = np.array(['python', 'numpy'])\n",
    "print(array)\n",
    "\n",
    "space_array = np.char.join(\" \", array)\n",
    "print(space_array)"
   ]
  },
  {
   "cell_type": "code",
   "execution_count": 54,
   "id": "7b04c2c1-08dc-4e4f-b222-044130c92e5f",
   "metadata": {},
   "outputs": [
    {
     "name": "stdout",
     "output_type": "stream",
     "text": [
      "[[1 2 3]\n",
      " [4 5 6]]\n",
      "\n",
      " [[ 7  8  9]\n",
      " [10 11 12]] \n",
      "\n",
      "[[ 8 10 12]\n",
      " [14 16 18]] \n",
      "\n",
      "[[-6 -6 -6]\n",
      " [-6 -6 -6]] \n",
      "\n",
      "[[ 7 16 27]\n",
      " [40 55 72]] \n",
      "\n",
      "[[0.14285714 0.25       0.33333333]\n",
      " [0.4        0.45454545 0.5       ]]\n"
     ]
    }
   ],
   "source": [
    "# 7. Create two 2D NumPy arrays and perform element-wise addition, subtraction, multiplication, \n",
    "# and division.\n",
    "\n",
    "# Ans(7)\n",
    "import numpy as np \n",
    "\n",
    "arr1 = np.array([[1,2,3],[4,5,6]])\n",
    "arr2 = np.array([[7,8,9],[10,11,12]])\n",
    "\n",
    "print(arr1)\n",
    "print(\"\\n\",arr2,\"\\n\")\n",
    "\n",
    "addition = arr1 + arr2\n",
    "print(addition,\"\\n\")\n",
    "\n",
    "subtraction = arr1 - arr2\n",
    "print(subtraction,\"\\n\")\n",
    "\n",
    "multiplication = arr1 * arr2\n",
    "print(multiplication,\"\\n\")\n",
    "\n",
    "division = arr1/arr2\n",
    "print(division)"
   ]
  },
  {
   "cell_type": "code",
   "execution_count": 60,
   "id": "7e68cf0a-ebc9-4096-859c-8a04e1aef9d6",
   "metadata": {},
   "outputs": [
    {
     "name": "stdout",
     "output_type": "stream",
     "text": [
      "[[1. 0. 0. 0. 0.]\n",
      " [0. 1. 0. 0. 0.]\n",
      " [0. 0. 1. 0. 0.]\n",
      " [0. 0. 0. 1. 0.]\n",
      " [0. 0. 0. 0. 1.]] \n",
      "\n",
      "[1. 1. 1. 1. 1.]\n"
     ]
    }
   ],
   "source": [
    "# 8. Use NumPy to create a 5x5 identity matrix, then extract its diagonal elements.\n",
    "\n",
    "# Ans(8)\n",
    "import numpy as np\n",
    "\n",
    "identity_matrix = np.eye(5)\n",
    "print(identity_matrix,\"\\n\")\n",
    "\n",
    "diagonal_elements = np.diag(identity_matrix)\n",
    "print(diagonal_elements)"
   ]
  },
  {
   "cell_type": "code",
   "execution_count": 75,
   "id": "81b4dd9e-6a73-4d1f-b687-7d5c503d3ddc",
   "metadata": {},
   "outputs": [
    {
     "name": "stdout",
     "output_type": "stream",
     "text": [
      "[547 846 700 686 111 391 823 298 222 607 375 754 693 177 103 933 790 443\n",
      " 932 662 142 879 405 935 767 629  53  16 513 948 563 595 167 258  49 828\n",
      " 926 265  60 396 630 220  64 645 651 192 581 145  54 953 593  74 399 303\n",
      " 318 868 108 719 908 254 846 162  31 804 845 196 741 955 783  54 449 286\n",
      " 710 869 990 435  61 183 125  71 922 179 389 787 933 392 406 478 433 523\n",
      " 749 291 412 782 998  38 462 465  26 733]\n",
      "\n",
      " [547 823 607 103 443  53 563 167 953 593 719  31 449  61  71 179 389 787\n",
      " 433 523 733]\n"
     ]
    }
   ],
   "source": [
    "# 9. Generate a NumPy array of 100 random integers between 0 and 1000. Find and display all\n",
    "# prime numbers in this array\n",
    "\n",
    "# Ans(9)\n",
    "import numpy as np \n",
    "\n",
    "array = np.random.randint(0,1001, size = 100)\n",
    "print(array)\n",
    "\n",
    "#function for prime numbers\n",
    "\n",
    "def is_prime(n):\n",
    "    if n <= 1:\n",
    "        return False\n",
    "    if n <= 3:\n",
    "        return True\n",
    "    if n % 2 == 0 or n % 3 == 0:\n",
    "        return False\n",
    "    i = 5\n",
    "    while i * i <= n:\n",
    "        if n % i == 0 or n % (i + 2) == 0:\n",
    "            return False\n",
    "        i += 6\n",
    "    return True\n",
    "\n",
    "primes = np.array([num for num in array if is_prime(num)])\n",
    "print(\"\\n\",primes)"
   ]
  },
  {
   "cell_type": "code",
   "execution_count": 83,
   "id": "f92f12b3-81b1-4311-8c6c-6b27093cec6f",
   "metadata": {},
   "outputs": [
    {
     "name": "stdout",
     "output_type": "stream",
     "text": [
      "[ 34  13   3  18   3  21  -6  -9  23  -5   1  27  13  15  -1  22  14  33\n",
      "  -6  27   1  20  29  32 -10  22  -7  29] \n",
      "\n",
      "[[ 34  13   3  18   3  21  -6]\n",
      " [ -9  23  -5   1  27  13  15]\n",
      " [ -1  22  14  33  -6  27   1]\n",
      " [ 20  29  32 -10  22  -7  29]] \n",
      "\n",
      "[12.28571429  9.28571429 12.85714286 16.42857143]\n"
     ]
    }
   ],
   "source": [
    "# 10. Create a NumPy array representing daily temperatures for a month. Calculate and\n",
    "# display the weekly averages.\n",
    "\n",
    "# Ans(10)\n",
    "\n",
    "import numpy as np \n",
    "\n",
    "# Generate a NumPy array representing daily temperatures for a month (30 days)\n",
    "# For demonstration, we'll use random temperatures between -10 and 35 degrees Celsius\n",
    "daily_temperatures = np.random.randint(-10,35,size = (28))\n",
    "print(daily_temperatures,\"\\n\")\n",
    "\n",
    "\n",
    "# Reshape the array into a 2D array where each row represents a week (4 weeks)\n",
    "# Since we have 30 days, we will have 4 full weeks and 2 extra days\n",
    "daily_temperatures_reshaped = daily_temperatures.reshape(4,7)\n",
    "print(daily_temperatures_reshaped,\"\\n\")\n",
    "\n",
    "\n",
    "# Calculate weekly averages\n",
    "weekly_averages = np.mean(daily_temperatures_reshaped, axis = 1)\n",
    "print(weekly_averages)"
   ]
  }
 ],
 "metadata": {
  "kernelspec": {
   "display_name": "Python 3 (ipykernel)",
   "language": "python",
   "name": "python3"
  },
  "language_info": {
   "codemirror_mode": {
    "name": "ipython",
    "version": 3
   },
   "file_extension": ".py",
   "mimetype": "text/x-python",
   "name": "python",
   "nbconvert_exporter": "python",
   "pygments_lexer": "ipython3",
   "version": "3.10.8"
  }
 },
 "nbformat": 4,
 "nbformat_minor": 5
}
